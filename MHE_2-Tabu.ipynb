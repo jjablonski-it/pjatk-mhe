{
  "cells": [
    {
      "cell_type": "markdown",
      "metadata": {
        "id": "view-in-github",
        "colab_type": "text"
      },
      "source": [
        "<a href=\"https://colab.research.google.com/github/jjablonski-it/pjatk-mhe/blob/main/MHE_2.ipynb\" target=\"_parent\"><img src=\"https://colab.research.google.com/assets/colab-badge.svg\" alt=\"Open In Colab\"/></a>"
      ]
    },
    {
      "cell_type": "code",
      "execution_count": 277,
      "metadata": {
        "id": "Ol0pLaZUaZxk"
      },
      "outputs": [],
      "source": [
        "import random\n",
        "import matplotlib.pyplot as plt"
      ]
    },
    {
      "cell_type": "code",
      "execution_count": 278,
      "metadata": {
        "id": "E2cAnD4SazT1"
      },
      "outputs": [],
      "source": [
        "# constants\n",
        "length = 100\n",
        "value_range = 1000"
      ]
    },
    {
      "cell_type": "code",
      "execution_count": 279,
      "metadata": {
        "id": "EUcns8m0a2HX"
      },
      "outputs": [],
      "source": [
        "data = sorted([random.randint(-value_range,value_range) for _ in range(length)])"
      ]
    },
    {
      "cell_type": "code",
      "execution_count": 280,
      "metadata": {
        "id": "-t5dz8yxdAIR"
      },
      "outputs": [],
      "source": [
        "# functions\n",
        "def random_index():\n",
        "  return ''.join(['%d' % random.randint(0,1) for _ in range(length)])\n",
        "\n",
        "def index_to_set(index):\n",
        "  result = []\n",
        "  for i, x in enumerate(list(index)):\n",
        "    if(x=='1'):\n",
        "      result.append(i)\n",
        "  return list(map(lambda x: data[x] ,result))\n",
        "\n",
        "def subset_sum(index):\n",
        "  return abs(sum(index_to_set(index)))\n",
        "\n",
        "def negate_bit(index, n):\n",
        "  index_list = list(index)\n",
        "  bit = index_list[n]\n",
        "  index_list[n] = '1' if bit=='0' else '0'\n",
        "  return ''.join(index_list)\n",
        "\n",
        "def generate_neighbours(index):\n",
        "  return filter(lambda x: x != '0'*length, [negate_bit(index, x) for x in range(length)])\n",
        "\n",
        "# def get_best_index(indexes):\n",
        "#   sum_dict = {index: subset_sum(index) for index in indexes}\n",
        "#   return min(sum_dict, key=sum_dict.get)"
      ]
    },
    {
      "cell_type": "code",
      "execution_count": 290,
      "metadata": {
        "id": "5EuoiNWujE_L"
      },
      "outputs": [],
      "source": [
        "def tabu_search(index=random_index(), iterations_limit=100): # with going back\n",
        "  tl = set() # tabu list\n",
        "  l  = [index] # steps list\n",
        "  best_index = index\n",
        "  current_index = index\n",
        "  i = 0\n",
        "  while(i < iterations_limit and subset_sum(best_index)!=0 and l):\n",
        "    i += 1\n",
        "    # print(i, 'index', current_index, 'sum', subset_sum(current_index))\n",
        "    neighbours = generate_neighbours(current_index)\n",
        "    neighbour_sum_dict = {index: subset_sum(index) for index in neighbours} # {index -> sum} dict\n",
        "    sorted_neighbours = map(lambda x: x[0], sorted(neighbour_sum_dict.items(), key=lambda item: item[1])) # [index] array\n",
        "    valid_neighbours = list(filter(lambda x: x not in tl, sorted_neighbours))\n",
        "\n",
        "    tl.add(current_index)\n",
        "    if(valid_neighbours):\n",
        "      best_local_index = valid_neighbours.pop(0)\n",
        "      if(subset_sum(best_local_index) < subset_sum(best_index)):\n",
        "        l.append(current_index)\n",
        "        best_index = best_local_index\n",
        "      current_index = best_local_index\n",
        "    else:\n",
        "      current_index = l.pop()\n",
        "  print('iterations', i)\n",
        "  return best_index"
      ]
    },
    {
      "cell_type": "code",
      "execution_count": 311,
      "metadata": {
        "colab": {
          "base_uri": "https://localhost:8080/"
        },
        "id": "7xbbWOVyhioR",
        "outputId": "a3593d24-d611-4ef2-88a2-39ce7a332352"
      },
      "outputs": [
        {
          "output_type": "stream",
          "name": "stdout",
          "text": [
            "start_index 1110101011100000100111100001001000110001011000100101011111011100011000011110011101111010001111001010\n",
            "tabu_search\n",
            "iterations 0\n",
            "start_index sum 1134\n",
            "best_index  sum 0\n"
          ]
        }
      ],
      "source": [
        "start_index = random_index()\n",
        "print('start_index', start_index)\n",
        "print('tabu_search')\n",
        "best_index = tabu_search('start_index')\n",
        "print('start_index sum %d' % subset_sum(start_index))\n",
        "print('best_index  sum %d' % subset_sum(best_index))\n"
      ]
    }
  ],
  "metadata": {
    "colab": {
      "name": "MHE_2.ipynb",
      "provenance": [],
      "authorship_tag": "ABX9TyPWm+V5TFxU1gQGJnUTg/+U",
      "include_colab_link": true
    },
    "kernelspec": {
      "display_name": "Python 3",
      "name": "python3"
    },
    "language_info": {
      "name": "python"
    }
  },
  "nbformat": 4,
  "nbformat_minor": 0
}