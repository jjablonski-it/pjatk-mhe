{
  "cells": [
    {
      "cell_type": "markdown",
      "metadata": {
        "colab_type": "text",
        "id": "view-in-github"
      },
      "source": [
        "<a href=\"https://colab.research.google.com/github/jjablonski-it/pjatk-mhe/blob/main/MHE_2.ipynb\" target=\"_parent\"><img src=\"https://colab.research.google.com/assets/colab-badge.svg\" alt=\"Open In Colab\"/></a>"
      ]
    },
    {
      "cell_type": "code",
      "execution_count": 49,
      "metadata": {
        "id": "Ol0pLaZUaZxk"
      },
      "outputs": [],
      "source": [
        "import random\n",
        "import matplotlib.pyplot as plt\n",
        "from time import time"
      ]
    },
    {
      "cell_type": "code",
      "execution_count": 50,
      "metadata": {
        "id": "E2cAnD4SazT1"
      },
      "outputs": [],
      "source": [
        "# constants\n",
        "length = 1000\n",
        "value_range = 100_000_000"
      ]
    },
    {
      "cell_type": "code",
      "execution_count": 51,
      "metadata": {
        "id": "EUcns8m0a2HX"
      },
      "outputs": [],
      "source": [
        "data = sorted([random.randint(-value_range,value_range) for _ in range(length)])\n",
        "# save data to file data.txt\n",
        "with open('data.txt','w') as f:\n",
        "    for i in data:\n",
        "        f.write(str(i)+'\\n')"
      ]
    },
    {
      "cell_type": "code",
      "execution_count": 52,
      "metadata": {
        "id": "-t5dz8yxdAIR"
      },
      "outputs": [],
      "source": [
        "# functions\n",
        "def random_index():\n",
        "  return ''.join(['%d' % random.randint(0,1) for _ in range(length)])\n",
        "\n",
        "def index_to_set(index):\n",
        "  result = []\n",
        "  for i, x in enumerate(list(index)):\n",
        "    if(x=='1'):\n",
        "      result.append(i)\n",
        "  return list(map(lambda x: data[x] ,result))\n",
        "\n",
        "def subset_sum(index):\n",
        "  return abs(sum(index_to_set(index)))\n",
        "\n",
        "def negate_bit(index, n):\n",
        "  index_list = list(index)\n",
        "  bit = index_list[n]\n",
        "  index_list[n] = '1' if bit=='0' else '0'\n",
        "  return ''.join(index_list)\n",
        "\n",
        "def generate_neighbours(index):\n",
        "  return filter(lambda x: x != '0'*length, [negate_bit(index, x) for x in range(length)])\n",
        "\n",
        "# def get_best_index(indexes):\n",
        "#   sum_dict = {index: subset_sum(index) for index in indexes}\n",
        "#   return min(sum_dict, key=sum_dict.get)"
      ]
    },
    {
      "cell_type": "code",
      "execution_count": 53,
      "metadata": {
        "id": "5EuoiNWujE_L"
      },
      "outputs": [],
      "source": [
        "def tabu_search(index=random_index(), iterations_limit=100): # with going back\n",
        "  tl = set() # tabu list\n",
        "  l  = [index] # steps list\n",
        "  best_index = index\n",
        "  current_index = index\n",
        "  i = 0\n",
        "  while(i < iterations_limit and subset_sum(best_index)!=0 and l):\n",
        "    i += 1\n",
        "    # print(i, 'index', current_index, 'sum', subset_sum(current_index))\n",
        "    neighbours = generate_neighbours(current_index)\n",
        "    neighbour_sum_dict = {index: subset_sum(index) for index in neighbours} # {index -> sum} dict\n",
        "    sorted_neighbours = map(lambda x: x[0], sorted(neighbour_sum_dict.items(), key=lambda item: item[1])) # [index] array\n",
        "    valid_neighbours = list(filter(lambda x: x not in tl, sorted_neighbours))\n",
        "\n",
        "    tl.add(current_index)\n",
        "    if(valid_neighbours):\n",
        "      best_local_index = valid_neighbours.pop(0)\n",
        "      if(subset_sum(best_local_index) < subset_sum(best_index)):\n",
        "        l.append(current_index)\n",
        "        best_index = best_local_index\n",
        "      current_index = best_local_index\n",
        "    else:\n",
        "      current_index = l.pop()\n",
        "  print('iterations', i)\n",
        "  return best_index"
      ]
    },
    {
      "cell_type": "code",
      "execution_count": 54,
      "metadata": {
        "colab": {
          "base_uri": "https://localhost:8080/"
        },
        "id": "7xbbWOVyhioR",
        "outputId": "a3593d24-d611-4ef2-88a2-39ce7a332352"
      },
      "outputs": [
        {
          "name": "stdout",
          "output_type": "stream",
          "text": [
            "start_index 0100110111100110100100111010000010010100111111110011111011011100011111100110000011101001110011101001100111000001011100101000111110111010100010010101100000011111110100011010011101110101011111001011011010011110110111101111001001111101100100000100100011001000011100111001100011001001001010101100100111001010000110001011011110110100110011001001010001010011001000110111000011011101100010111101000110101100011111011010100010110111000111001001111011011011111100111100111000001111001011111100011000011010101001100100001000111011000110000000101111011110010011101110111110100110001001001111010100101111010001100010110000110001001110110101110111010000111011001010010001110000001110111101011001010011010001010011111000110010010010010000000110111000111000010110010001100011100110100110011001000101000111010101110011101101101101000100100101101100011101100110000011010111110111001101100001110111100101100010100111001100100001010100011110000100110110100100010111001000000100110011000000000100011011110010010111100001\n",
            "tabu_search\n",
            "iterations 100000\n",
            "start_index sum 2206678478\n",
            "best_index  sum 1\n",
            "duration 12481.957325935364\n"
          ]
        }
      ],
      "source": [
        "start_index = random_index()\n",
        "# save start index to file start_index.txt\n",
        "with open('start_index.txt','w') as f:\n",
        "    f.write(start_index)\n",
        "print('start_index', start_index)\n",
        "print('tabu_search')\n",
        "start_time = time()\n",
        "best_index = tabu_search(start_index, 100000)\n",
        "duration = time() - start_time\n",
        "print('start_index sum %d' % subset_sum(start_index))\n",
        "print('best_index  sum %d' % subset_sum(best_index))\n",
        "print('duration', duration)\n"
      ]
    },
    {
      "cell_type": "markdown",
      "metadata": {},
      "source": [
        "| Details | Py | Cpp |\n",
        "| - | - | - |\n",
        "|Length: 1000\n",
        "Range: 100 mln\n",
        "Iterations: 1000| 85.642| 39.906 |\n",
        "| - | - | - |\n",
        "|Length: 1000\n",
        "Range: 100 mln\n",
        "Iterations: 100000| 5968.423 | 12481.957 |\n",
        "\n",
        "Cpp ok 2x szybciej"
      ]
    }
  ],
  "metadata": {
    "colab": {
      "authorship_tag": "ABX9TyPWm+V5TFxU1gQGJnUTg/+U",
      "include_colab_link": true,
      "name": "MHE_2.ipynb",
      "provenance": []
    },
    "kernelspec": {
      "display_name": "Python 3.9.10 64-bit ('3.9.10')",
      "language": "python",
      "name": "python3"
    },
    "language_info": {
      "codemirror_mode": {
        "name": "ipython",
        "version": 3
      },
      "file_extension": ".py",
      "mimetype": "text/x-python",
      "name": "python",
      "nbconvert_exporter": "python",
      "pygments_lexer": "ipython3",
      "version": "3.9.10"
    },
    "vscode": {
      "interpreter": {
        "hash": "7b536c44f187cb9a9d5637f049676a20c51313fbb21ab577023381d749aed8c2"
      }
    }
  },
  "nbformat": 4,
  "nbformat_minor": 0
}
