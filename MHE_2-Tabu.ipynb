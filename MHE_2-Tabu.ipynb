{
  "cells": [
    {
      "cell_type": "markdown",
      "metadata": {
        "colab_type": "text",
        "id": "view-in-github"
      },
      "source": [
        "<a href=\"https://colab.research.google.com/github/jjablonski-it/pjatk-mhe/blob/main/MHE_2.ipynb\" target=\"_parent\"><img src=\"https://colab.research.google.com/assets/colab-badge.svg\" alt=\"Open In Colab\"/></a>"
      ]
    },
    {
      "cell_type": "code",
      "execution_count": 25,
      "metadata": {
        "id": "Ol0pLaZUaZxk"
      },
      "outputs": [],
      "source": [
        "import random\n",
        "import matplotlib.pyplot as plt"
      ]
    },
    {
      "cell_type": "code",
      "execution_count": 26,
      "metadata": {
        "id": "E2cAnD4SazT1"
      },
      "outputs": [],
      "source": [
        "# constants\n",
        "length = 100\n",
        "value_range = 1000"
      ]
    },
    {
      "cell_type": "code",
      "execution_count": 27,
      "metadata": {
        "id": "EUcns8m0a2HX"
      },
      "outputs": [],
      "source": [
        "data = sorted([random.randint(-value_range,value_range) for _ in range(length)])\n",
        "# save data to file data.txt\n",
        "with open('data.txt','w') as f:\n",
        "    for i in data:\n",
        "        f.write(str(i)+'\\n')"
      ]
    },
    {
      "cell_type": "code",
      "execution_count": 28,
      "metadata": {
        "id": "-t5dz8yxdAIR"
      },
      "outputs": [],
      "source": [
        "# functions\n",
        "def random_index():\n",
        "  return ''.join(['%d' % random.randint(0,1) for _ in range(length)])\n",
        "\n",
        "def index_to_set(index):\n",
        "  result = []\n",
        "  for i, x in enumerate(list(index)):\n",
        "    if(x=='1'):\n",
        "      result.append(i)\n",
        "  return list(map(lambda x: data[x] ,result))\n",
        "\n",
        "def subset_sum(index):\n",
        "  return abs(sum(index_to_set(index)))\n",
        "\n",
        "def negate_bit(index, n):\n",
        "  index_list = list(index)\n",
        "  bit = index_list[n]\n",
        "  index_list[n] = '1' if bit=='0' else '0'\n",
        "  return ''.join(index_list)\n",
        "\n",
        "def generate_neighbours(index):\n",
        "  return filter(lambda x: x != '0'*length, [negate_bit(index, x) for x in range(length)])\n",
        "\n",
        "# def get_best_index(indexes):\n",
        "#   sum_dict = {index: subset_sum(index) for index in indexes}\n",
        "#   return min(sum_dict, key=sum_dict.get)"
      ]
    },
    {
      "cell_type": "code",
      "execution_count": 29,
      "metadata": {
        "id": "5EuoiNWujE_L"
      },
      "outputs": [],
      "source": [
        "def tabu_search(index=random_index(), iterations_limit=100): # with going back\n",
        "  tl = set() # tabu list\n",
        "  l  = [index] # steps list\n",
        "  best_index = index\n",
        "  current_index = index\n",
        "  i = 0\n",
        "  while(i < iterations_limit and subset_sum(best_index)!=0 and l):\n",
        "    i += 1\n",
        "    # print(i, 'index', current_index, 'sum', subset_sum(current_index))\n",
        "    neighbours = generate_neighbours(current_index)\n",
        "    neighbour_sum_dict = {index: subset_sum(index) for index in neighbours} # {index -> sum} dict\n",
        "    sorted_neighbours = map(lambda x: x[0], sorted(neighbour_sum_dict.items(), key=lambda item: item[1])) # [index] array\n",
        "    valid_neighbours = list(filter(lambda x: x not in tl, sorted_neighbours))\n",
        "\n",
        "    tl.add(current_index)\n",
        "    if(valid_neighbours):\n",
        "      best_local_index = valid_neighbours.pop(0)\n",
        "      if(subset_sum(best_local_index) < subset_sum(best_index)):\n",
        "        l.append(current_index)\n",
        "        best_index = best_local_index\n",
        "      current_index = best_local_index\n",
        "    else:\n",
        "      current_index = l.pop()\n",
        "  print('iterations', i)\n",
        "  return best_index"
      ]
    },
    {
      "cell_type": "code",
      "execution_count": 30,
      "metadata": {
        "colab": {
          "base_uri": "https://localhost:8080/"
        },
        "id": "7xbbWOVyhioR",
        "outputId": "a3593d24-d611-4ef2-88a2-39ce7a332352"
      },
      "outputs": [
        {
          "name": "stdout",
          "output_type": "stream",
          "text": [
            "start_index 0101000000111110111100101100101011111000100101001011010001011010100101100011100001001011100010100011\n",
            "tabu_search\n",
            "iterations 56\n",
            "start_index sum 42\n",
            "best_index  sum 0\n"
          ]
        }
      ],
      "source": [
        "start_index = random_index()\n",
        "# save start index to file start_index.txt\n",
        "with open('start_index.txt','w') as f:\n",
        "    f.write(start_index)\n",
        "print('start_index', start_index)\n",
        "print('tabu_search')\n",
        "best_index = tabu_search(start_index, 1000)\n",
        "print('start_index sum %d' % subset_sum(start_index))\n",
        "print('best_index  sum %d' % subset_sum(best_index))\n"
      ]
    }
  ],
  "metadata": {
    "colab": {
      "authorship_tag": "ABX9TyPWm+V5TFxU1gQGJnUTg/+U",
      "include_colab_link": true,
      "name": "MHE_2.ipynb",
      "provenance": []
    },
    "kernelspec": {
      "display_name": "Python 3.9.10 64-bit ('3.9.10')",
      "language": "python",
      "name": "python3"
    },
    "language_info": {
      "codemirror_mode": {
        "name": "ipython",
        "version": 3
      },
      "file_extension": ".py",
      "mimetype": "text/x-python",
      "name": "python",
      "nbconvert_exporter": "python",
      "pygments_lexer": "ipython3",
      "version": "3.9.10"
    },
    "vscode": {
      "interpreter": {
        "hash": "7b536c44f187cb9a9d5637f049676a20c51313fbb21ab577023381d749aed8c2"
      }
    }
  },
  "nbformat": 4,
  "nbformat_minor": 0
}
