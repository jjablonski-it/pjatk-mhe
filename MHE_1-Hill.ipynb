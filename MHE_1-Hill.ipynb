{
  "cells": [
    {
      "cell_type": "markdown",
      "metadata": {
        "colab_type": "text",
        "id": "view-in-github"
      },
      "source": [
        "<a href=\"https://colab.research.google.com/github/jjablonski-it/pjatk-mhe/blob/main/MHE_1.ipynb\" target=\"_parent\"><img src=\"https://colab.research.google.com/assets/colab-badge.svg\" alt=\"Open In Colab\"/></a>"
      ]
    },
    {
      "cell_type": "code",
      "execution_count": 162,
      "metadata": {
        "id": "Ol0pLaZUaZxk"
      },
      "outputs": [],
      "source": [
        "import random\n",
        "import matplotlib.pyplot as plt"
      ]
    },
    {
      "cell_type": "code",
      "execution_count": 163,
      "metadata": {
        "id": "E2cAnD4SazT1"
      },
      "outputs": [],
      "source": [
        "# constants\n",
        "length = 100\n",
        "value_range = 1000"
      ]
    },
    {
      "cell_type": "code",
      "execution_count": 164,
      "metadata": {
        "id": "EUcns8m0a2HX"
      },
      "outputs": [],
      "source": [
        "data = sorted([random.randint(-value_range,value_range) for _ in range(length)])"
      ]
    },
    {
      "cell_type": "code",
      "execution_count": 165,
      "metadata": {
        "id": "-t5dz8yxdAIR"
      },
      "outputs": [],
      "source": [
        "# functions\n",
        "def random_index():\n",
        "  return ''.join(['%d' % random.randint(0,1) for _ in range(length)])\n",
        "\n",
        "def index_to_set(index):\n",
        "  result = []\n",
        "  for i, x in enumerate(list(index)):\n",
        "    if(x=='1'):\n",
        "      result.append(i)\n",
        "  return list(map(lambda x: data[x] ,result))\n",
        "\n",
        "def subset_sum(index):\n",
        "  return abs(sum(index_to_set(index)))\n",
        "\n",
        "def negate_bit(index, n):\n",
        "  index_list = list(index)\n",
        "  bit = index_list[n]\n",
        "  index_list[n] = '1' if bit=='0' else '0'\n",
        "  return ''.join(index_list)\n",
        "\n",
        "def generate_neighbours(index):\n",
        "  return [negate_bit(index, x) for x in range(length)]"
      ]
    },
    {
      "cell_type": "code",
      "execution_count": 166,
      "metadata": {
        "id": "5EuoiNWujE_L"
      },
      "outputs": [],
      "source": [
        "def hill_climbing_deterministic(index=random_index()):\n",
        "  while True:\n",
        "    current_sum = subset_sum(index)\n",
        "    neighbours = generate_neighbours(index)\n",
        "    neighbour_sum_dict = {index: subset_sum(index) for index in neighbours}\n",
        "    # determine best neighbour\n",
        "    best_index = min(neighbour_sum_dict, key=neighbour_sum_dict.get)\n",
        "    if(neighbour_sum_dict[best_index] < current_sum):\n",
        "      index = best_index\n",
        "    else:\n",
        "      return index"
      ]
    },
    {
      "cell_type": "code",
      "execution_count": 167,
      "metadata": {},
      "outputs": [],
      "source": [
        "def hill_climbing_stochastic(index=random_index(), iterations=100):\n",
        "  def select_neighbour(neighbours):\n",
        "    neighbour_sum_dict = {index: subset_sum(index) for index in neighbours}\n",
        "    sorted_neighbours = sorted(neighbour_sum_dict.items(), key=lambda item: item[1])\n",
        "    if sorted_neighbours[0][1]==0:\n",
        "      return sorted_neighbours[0][0]\n",
        "    points_arr = [(value_range*length)//sum for _, sum in sorted_neighbours]\n",
        "    total_points = sum(points_arr)\n",
        "    probability_arr = list(map(lambda x: x/total_points, points_arr))\n",
        "\n",
        "    random_val = random.random()\n",
        "    best_i = next(i for i, _ in enumerate(probability_arr) if sum(probability_arr[:i+1]) > random_val)\n",
        "    return sorted_neighbours[best_i][0]\n",
        "\n",
        "  i = 0\n",
        "  while i < iterations:\n",
        "    current_sum = subset_sum(index)\n",
        "    if(current_sum==0):\n",
        "      return index\n",
        "    neighbours = generate_neighbours(index)\n",
        "    index = select_neighbour(neighbours)\n",
        "    i += 1\n",
        "  return index"
      ]
    },
    {
      "cell_type": "code",
      "execution_count": 168,
      "metadata": {
        "colab": {
          "base_uri": "https://localhost:8080/"
        },
        "id": "7xbbWOVyhioR",
        "outputId": "bbced54e-0dc9-4b14-ee19-1ac4874e8741"
      },
      "outputs": [
        {
          "name": "stdout",
          "output_type": "stream",
          "text": [
            "deterministic\n",
            "start_index sum 484\n",
            "best_index  sum 12\n",
            "\n",
            "stochastic\n",
            "start_index sum 484\n",
            "best_index  sum 0\n"
          ]
        }
      ],
      "source": [
        "start_index = random_index()\n",
        "\n",
        "print('deterministic')\n",
        "best_index = hill_climbing_deterministic(start_index)\n",
        "print('start_index sum %d' % subset_sum(start_index))\n",
        "print('best_index  sum %d' % subset_sum(best_index))\n",
        "print()\n",
        "print('stochastic')\n",
        "best_index = hill_climbing_stochastic(start_index, 1000)\n",
        "print('start_index sum %d' % subset_sum(start_index))\n",
        "print('best_index  sum %d' % subset_sum(best_index))\n"
      ]
    }
  ],
  "metadata": {
    "colab": {
      "authorship_tag": "ABX9TyOnY+iKm3Ee+89E98EXvelx",
      "include_colab_link": true,
      "name": "MHE_1.ipynb",
      "provenance": []
    },
    "kernelspec": {
      "display_name": "Python 3",
      "name": "python3"
    },
    "language_info": {
      "name": "python"
    }
  },
  "nbformat": 4,
  "nbformat_minor": 0
}
