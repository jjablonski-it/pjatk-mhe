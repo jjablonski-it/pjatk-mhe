{
  "cells": [
    {
      "cell_type": "markdown",
      "metadata": {
        "colab_type": "text",
        "id": "view-in-github"
      },
      "source": [
        "<a href=\"https://colab.research.google.com/github/jjablonski-it/pjatk-mhe/blob/main/MHE_2.ipynb\" target=\"_parent\"><img src=\"https://colab.research.google.com/assets/colab-badge.svg\" alt=\"Open In Colab\"/></a>"
      ]
    },
    {
      "cell_type": "code",
      "execution_count": 539,
      "metadata": {
        "id": "Ol0pLaZUaZxk"
      },
      "outputs": [],
      "source": [
        "import random\n",
        "import math\n",
        "import matplotlib.pyplot as plt"
      ]
    },
    {
      "cell_type": "code",
      "execution_count": 540,
      "metadata": {
        "id": "E2cAnD4SazT1"
      },
      "outputs": [],
      "source": [
        "# constants\n",
        "length = 100\n",
        "value_range = 10000"
      ]
    },
    {
      "cell_type": "code",
      "execution_count": 541,
      "metadata": {
        "id": "EUcns8m0a2HX"
      },
      "outputs": [],
      "source": [
        "data = sorted([random.randint(-value_range,value_range) for _ in range(length)])"
      ]
    },
    {
      "cell_type": "code",
      "execution_count": 542,
      "metadata": {
        "id": "-t5dz8yxdAIR"
      },
      "outputs": [],
      "source": [
        "# functions\n",
        "def random_index():\n",
        "  return ''.join(['%d' % random.randint(0,1) for _ in range(length)])\n",
        "\n",
        "def index_to_set(index):\n",
        "  result = []\n",
        "  for i, x in enumerate(list(index)):\n",
        "    if(x=='1'):\n",
        "      result.append(i)\n",
        "  return list(map(lambda x: data[x] ,result))\n",
        "\n",
        "def subset_sum(index):\n",
        "  return abs(sum(index_to_set(index)))\n",
        "\n",
        "def negate_bit(index, n):\n",
        "  index_list = list(index)\n",
        "  bit = index_list[n]\n",
        "  index_list[n] = '1' if bit=='0' else '0'\n",
        "  return ''.join(index_list)\n",
        "\n",
        "def generate_neighbours(index):\n",
        "  return filter(lambda x: x != '0'*length, [negate_bit(index, x) for x in range(length)])\n",
        "\n",
        "def plot_indices_to_sum(indices):\n",
        "    plt.plot(list(map(lambda x: subset_sum(x), indices)))"
      ]
    },
    {
      "cell_type": "code",
      "execution_count": 557,
      "metadata": {
        "id": "5EuoiNWujE_L"
      },
      "outputs": [],
      "source": [
        "class SA:\n",
        "    def __init__(self, max_iteration):\n",
        "        self.index = random_index()\n",
        "        self.iteration = 1\n",
        "        self.max_iteration = max_iteration\n",
        "        self.best_index = self.index\n",
        "        self.best_index_per_iteration = []\n",
        "        self.prob_per_iteration = [1]\n",
        "\n",
        "    def calculate_cost(self, index):\n",
        "        return subset_sum(index)\n",
        "\n",
        "    def get_temp(self):\n",
        "        return self.max_iteration - self.iteration + 1\n",
        "\n",
        "    def should_accept(self, cost_diff):\n",
        "        res = math.exp(-(value_range+cost_diff)/(self.get_temp()))\n",
        "        self.prob_per_iteration.append(res)\n",
        "        return random.random() < res \n",
        "\n",
        "    def update_values(self, ):\n",
        "        if subset_sum(self.index) < subset_sum(self.best_index):\n",
        "            self.best_index = self.index\n",
        "            self.best_index_per_iteration.append(self.index)\n",
        "\n",
        "    def end_condition(self):\n",
        "        end = subset_sum(self.index) == 0\n",
        "        if end:\n",
        "            print('Found solution in iteration %d' % self.iteration)\n",
        "        return end\n",
        "\n",
        "    def run(self):\n",
        "        while(self.iteration < self.max_iteration):\n",
        "            next_index = random.choice(list(generate_neighbours(self.index)))\n",
        "            diff = self.calculate_cost(self.index) - self.calculate_cost(next_index)\n",
        "            if diff >= 0:\n",
        "                self.index = next_index\n",
        "                self.prob_per_iteration.append(self.prob_per_iteration[-1])\n",
        "            else:\n",
        "                if self.should_accept(diff):\n",
        "                    self.index = next_index\n",
        "            self.update_values()\n",
        "            if self.end_condition():\n",
        "                return self.index\n",
        "            self.iteration += 1\n",
        "        return self.index\n"
      ]
    },
    {
      "cell_type": "code",
      "execution_count": 558,
      "metadata": {
        "colab": {
          "base_uri": "https://localhost:8080/"
        },
        "id": "7xbbWOVyhioR",
        "outputId": "a3593d24-d611-4ef2-88a2-39ce7a332352"
      },
      "outputs": [
        {
          "name": "stdout",
          "output_type": "stream",
          "text": [
            "Found solution in iteration 23938\n"
          ]
        },
        {
          "data": {
            "image/png": "[encoded data removed]",
            "text/plain": [
              "<Figure size 432x288 with 1 Axes>"
            ]
          },
          "metadata": {
            "needs_background": "light"
          },
          "output_type": "display_data"
        }
      ],
      "source": [
        "sa = SA(100000)\n",
        "sa.run()\n",
        "plot_indices_to_sum(sa.index_per_iteration)\n",
        "# plt.plot(sa.prob_per_iteration)"
      ]
    },
    {
      "cell_type": "code",
      "execution_count": 559,
      "metadata": {},
      "outputs": [
        {
          "data": {
            "text/plain": [
              "[<matplotlib.lines.Line2D at 0x16904da60>]"
            ]
          },
          "execution_count": 559,
          "metadata": {},
          "output_type": "execute_result"
        },
        {
          "data": {
            "image/png": "[encoded data removed]",
            "text/plain": [
              "<Figure size 432x288 with 1 Axes>"
            ]
          },
          "metadata": {
            "needs_background": "light"
          },
          "output_type": "display_data"
        }
      ],
      "source": [
        "plt.plot(sa.prob_per_iteration)"
      ]
    },
    {
      "cell_type": "code",
      "execution_count": null,
      "metadata": {},
      "outputs": [],
      "source": []
    }
  ],
  "metadata": {
    "colab": {
      "authorship_tag": "ABX9TyPWm+V5TFxU1gQGJnUTg/+U",
      "include_colab_link": true,
      "name": "MHE_2.ipynb",
      "provenance": []
    },
    "interpreter": {
      "hash": "7b536c44f187cb9a9d5637f049676a20c51313fbb21ab577023381d749aed8c2"
    },
    "kernelspec": {
      "display_name": "Python 3.9.10 64-bit ('3.9.10')",
      "language": "python",
      "name": "python3"
    },
    "language_info": {
      "codemirror_mode": {
        "name": "ipython",
        "version": 3
      },
      "file_extension": ".py",
      "mimetype": "text/x-python",
      "name": "python",
      "nbconvert_exporter": "python",
      "pygments_lexer": "ipython3",
      "version": "3.9.10"
    }
  },
  "nbformat": 4,
  "nbformat_minor": 0
}
