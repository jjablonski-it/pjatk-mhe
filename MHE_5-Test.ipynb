{
  "cells": [
    {
      "cell_type": "markdown",
      "metadata": {
        "colab_type": "text",
        "id": "view-in-github"
      },
      "source": [
        "<a href=\"https://colab.research.google.com/github/jjablonski-it/pjatk-mhe/blob/main/MHE_4.ipynb\" target=\"_parent\"><img src=\"https://colab.research.google.com/assets/colab-badge.svg\" alt=\"Open In Colab\"/></a>"
      ]
    },
    {
      "cell_type": "code",
      "execution_count": 1,
      "metadata": {
        "id": "Ol0pLaZUaZxk"
      },
      "outputs": [],
      "source": [
        "import random\n",
        "import math\n",
        "from time import time\n",
        "import matplotlib.pyplot as plt"
      ]
    },
    {
      "cell_type": "code",
      "execution_count": 36,
      "metadata": {
        "id": "E2cAnD4SazT1"
      },
      "outputs": [],
      "source": [
        "# constants\n",
        "LENGTH = 100\n",
        "VALUE_RANGE = 100_000_000"
      ]
    },
    {
      "cell_type": "code",
      "execution_count": 24,
      "metadata": {
        "colab": {
          "base_uri": "https://localhost:8080/"
        },
        "id": "EUcns8m0a2HX",
        "outputId": "3730f62a-28ff-4496-8be0-56bec50fdb9c"
      },
      "outputs": [
        {
          "name": "stdout",
          "output_type": "stream",
          "text": [
            "False\n"
          ]
        }
      ],
      "source": [
        "data = [random.randint(-VALUE_RANGE,VALUE_RANGE) for _ in range(LENGTH)]\n",
        "print(0 in data)"
      ]
    },
    {
      "cell_type": "code",
      "execution_count": 25,
      "metadata": {
        "id": "-t5dz8yxdAIR"
      },
      "outputs": [],
      "source": [
        "# functions\n",
        "def random_index():\n",
        "    return ''.join(['%d' % random.randint(0, 1) for _ in range(LENGTH)])\n",
        "\n",
        "\n",
        "def index_to_set(index):\n",
        "    result = []\n",
        "    for i, x in enumerate(list(index)):\n",
        "        if(x == '1'):\n",
        "            result.append(i)\n",
        "    return list(map(lambda x: data[x], result))\n",
        "\n",
        "\n",
        "def subset_sum(index):\n",
        "    return abs(sum(index_to_set(index)))\n",
        "\n",
        "\n",
        "def negate_bit(index, n):\n",
        "    index_list = list(index)\n",
        "    bit = index_list[n]\n",
        "    index_list[n] = '1' if bit == '0' else '0'\n",
        "    return ''.join(index_list)\n",
        "\n",
        "\n",
        "def generate_neighbours(index):\n",
        "    return filter(lambda x: x != '0'*LENGTH, [negate_bit(index, x) for x in range(LENGTH)])\n",
        "\n",
        "\n",
        "def get_best_index(indices):\n",
        "    sum_dict = {index: subset_sum(index) for index in indices}\n",
        "    return min(sum_dict, key=sum_dict.get)\n",
        "\n",
        "\n",
        "def plot_indices_to_sum(indices):\n",
        "    plt.plot(list(map(lambda x: subset_sum(x), indices)))\n",
        "\n",
        "\n",
        "def bruteforce_lowest_sum(val=0):\n",
        "    all_indices = list(\n",
        "        map(lambda x: (\"{:0\"+str(LENGTH)+\"b}\").format(x), range(1, 2**LENGTH)))\n",
        "    print('generated all incides, testing...')\n",
        "    best = subset_sum(all_indices[0])\n",
        "    for x in all_indices:\n",
        "        result = subset_sum(x)\n",
        "        if(result <= val):\n",
        "            return result\n",
        "        if(result < best):\n",
        "            best = result\n",
        "    return best\n"
      ]
    },
    {
      "cell_type": "code",
      "execution_count": 26,
      "metadata": {
        "id": "5EuoiNWujE_L"
      },
      "outputs": [],
      "source": [
        "def hill_climbing_deterministic(index=random_index()):\n",
        "    while True:\n",
        "        current_sum = subset_sum(index)\n",
        "        neighbours = generate_neighbours(index)\n",
        "        neighbour_sum_dict = {index: subset_sum(index) for index in neighbours}\n",
        "        # determine best neighbour\n",
        "        best_index = min(neighbour_sum_dict, key=neighbour_sum_dict.get)\n",
        "        if(neighbour_sum_dict[best_index] < current_sum):\n",
        "            index = best_index\n",
        "        else:\n",
        "            return index\n",
        "    return index\n",
        "\n",
        "\n",
        "def hill_climbing_stochastic(index=random_index(), iterations=100):\n",
        "  def select_neighbour(neighbours):\n",
        "    neighbour_sum_dict = {index: subset_sum(index) for index in neighbours}\n",
        "    sorted_neighbours = sorted(neighbour_sum_dict.items(), key=lambda item: item[1])\n",
        "    if sorted_neighbours[0][1]==0:\n",
        "      return sorted_neighbours[0][0]\n",
        "    points_arr = [(VALUE_RANGE*LENGTH)//sum for _, sum in sorted_neighbours]\n",
        "    total_points = sum(points_arr)\n",
        "    probability_arr = list(map(lambda x: x/total_points, points_arr))\n",
        "\n",
        "    random_val = random.random()\n",
        "    best_i = next(i for i, _ in enumerate(probability_arr) if sum(probability_arr[:i+1]) > random_val)\n",
        "    return sorted_neighbours[best_i][0]\n",
        "\n",
        "  i = 0\n",
        "  while i < iterations:\n",
        "    current_sum = subset_sum(index)\n",
        "    if(current_sum==0):\n",
        "      return index\n",
        "    neighbours = generate_neighbours(index)\n",
        "    index = select_neighbour(neighbours)\n",
        "    i += 1\n",
        "  return index\n",
        "\n",
        "\n",
        "def tabu_search(index=random_index(), iterations_limit=100):  # with going back\n",
        "    tl = set()  # tabu list\n",
        "    l = [index]  # steps list\n",
        "    best_index = index\n",
        "    current_index = index\n",
        "    i = 0\n",
        "    while i < iterations_limit and subset_sum(best_index) != 0 and l:\n",
        "        i += 1\n",
        "        # print(i, 'index', current_index, 'sum', subset_sum(current_index))\n",
        "        neighbours = generate_neighbours(current_index)\n",
        "        neighbour_sum_dict = {index: subset_sum(\n",
        "            index) for index in neighbours}  # {index -> sum} dict\n",
        "        sorted_neighbours = map(lambda x: x[0], sorted(\n",
        "            neighbour_sum_dict.items(), key=lambda item: item[1]))  # [index] array\n",
        "        valid_neighbours = list(\n",
        "            filter(lambda x: x not in tl, sorted_neighbours))\n",
        "\n",
        "        tl.add(current_index)\n",
        "        if valid_neighbours:\n",
        "            best_local_index = valid_neighbours.pop(0)\n",
        "            if subset_sum(best_local_index) < subset_sum(best_index):\n",
        "                l.append(current_index)\n",
        "                best_index = best_local_index\n",
        "            current_index = best_local_index\n",
        "        else:\n",
        "            current_index = l.pop()\n",
        "    return best_index\n",
        "\n",
        "\n",
        "class SA:\n",
        "    def __init__(self, start_index, temp, max_iterations) :\n",
        "        self.index = start_index\n",
        "        self.iteration = 1\n",
        "        self.temp = temp\n",
        "        self.max_iterations = max_iterations\n",
        "        self.best_index = self.index\n",
        "        self.best_index_per_iteration = []\n",
        "        self.prob_per_iteration = [1]\n",
        "        self.temp_per_iteration = []\n",
        "\n",
        "    def calculate_cost(self, index):\n",
        "        return subset_sum(index)\n",
        "\n",
        "    def get_temp(self):\n",
        "        return self.temp / math.log(self.iteration + 1)\n",
        "\n",
        "    def should_accept(self, cost_diff):\n",
        "        res = math.exp(-abs(cost_diff)/self.get_temp())\n",
        "        self.prob_per_iteration.append(res)\n",
        "        return random.random() < res \n",
        "\n",
        "    def update_values(self):\n",
        "        if subset_sum(self.index) < subset_sum(self.best_index):\n",
        "            self.best_index = self.index\n",
        "        self.best_index_per_iteration.append(self.index)\n",
        "        self.temp_per_iteration.append(self.get_temp())\n",
        "\n",
        "    def end_condition(self):\n",
        "        return subset_sum(self.index) == 0\n",
        "\n",
        "    def run(self):\n",
        "        while(self.iteration < self.max_iterations):\n",
        "            next_index = random.choice(list(generate_neighbours(self.index)))\n",
        "            diff = self.calculate_cost(self.index) - self.calculate_cost(next_index)\n",
        "            if diff >= 0:\n",
        "                self.index = next_index\n",
        "                self.prob_per_iteration.append(self.prob_per_iteration[-1])\n",
        "            else:\n",
        "                if self.should_accept(diff):\n",
        "                    self.index = next_index\n",
        "            self.update_values()\n",
        "            if self.end_condition():\n",
        "                return self.index\n",
        "            self.iteration += 1\n",
        "        return self.index\n",
        "\n",
        "\n",
        "\n",
        "class GA:\n",
        "    def __init__(self, pop_size, mutation_rate):\n",
        "        self.pop_size = pop_size\n",
        "        self.mutation_rate = mutation_rate\n",
        "        self.generation = self.create_generation()\n",
        "        self.generation_count = 0\n",
        "        self.best_index = get_best_index(self.generation)\n",
        "        self.best_indices_per_gen = [self.best_index]\n",
        "        self.average_sum_per_gen = [self.get_average_sum()]\n",
        "\n",
        "    def crossover(self, index_a, index_b):\n",
        "        slice_point_1, slice_point_2 = sorted(\n",
        "            [random.randint(0, LENGTH-1), random.randint(0, LENGTH-1)])\n",
        "        child = index_a[:slice_point_1] + \\\n",
        "            index_b[slice_point_1:slice_point_2] + index_a[slice_point_2:]\n",
        "        return child\n",
        "\n",
        "    def mutate(self, index):\n",
        "        rand_index = random_index()\n",
        "        mutated_index = self.crossover(index, rand_index)\n",
        "        return mutated_index\n",
        "\n",
        "    def end_condition(self):\n",
        "        return subset_sum(self.best_index) == 0\n",
        "\n",
        "    def next_generation(self):\n",
        "        mating_pool = self.create_mating_pool()\n",
        "        parent = self.select_parent(mating_pool)\n",
        "        next_generation = self.mate(parent)\n",
        "        self.generation = self.create_generation(next_generation)\n",
        "        self.generation_count += 1\n",
        "        self.update_best_index()\n",
        "\n",
        "    def fitness_function(self, index):\n",
        "        index_sum = subset_sum(index)\n",
        "        if(index_sum == 0):\n",
        "            return ((VALUE_RANGE*LENGTH) * 2)\n",
        "        score = ((VALUE_RANGE*LENGTH) // index_sum)\n",
        "        return score\n",
        "\n",
        "    def next_generations(self, n):\n",
        "        for _ in range(n):\n",
        "            self.next_generation()\n",
        "            if self.end_condition():\n",
        "                return self.best_index\n",
        "        return self.best_index\n",
        "\n",
        "    def create_generation(self, start_array=[]):\n",
        "        generation = set(start_array)\n",
        "        while(len(generation) < self.pop_size):\n",
        "            generation.add(random_index())\n",
        "        return generation\n",
        "\n",
        "    def create_mating_pool(self):\n",
        "        index_score_dict = {index: self.fitness_function(\n",
        "            index) for index in self.generation}\n",
        "        total = sum(index_score_dict.values())\n",
        "        index_prob_dict = {index: math.floor(\n",
        "            (score/total)*100) for index, score in index_score_dict.items()}\n",
        "        pool_nested = [[index]*(prob)\n",
        "                       for index, prob in index_prob_dict.items()]\n",
        "        return [item for sublist in pool_nested for item in sublist]\n",
        "\n",
        "    def mutation(self, index):\n",
        "        rand = random.random()\n",
        "        if rand < self.mutation_rate:\n",
        "            return self.mutate(index)\n",
        "        return index\n",
        "\n",
        "    def select_parent(self, pool):\n",
        "        return random.choice(pool)\n",
        "\n",
        "    def mate(self, parent_index):\n",
        "        new_generation = map(lambda index: self.mutation(\n",
        "            self.crossover(index, parent_index)), self.generation)\n",
        "        return set(new_generation)\n",
        "\n",
        "    def update_best_index(self):\n",
        "        current_best = get_best_index(self.generation)\n",
        "        self.best_indices_per_gen.append(current_best)\n",
        "        self.average_sum_per_gen.append(self.get_average_sum())\n",
        "        if(subset_sum(current_best) < subset_sum(self.best_index)):\n",
        "            self.best_index = current_best\n",
        "\n",
        "    def get_average_sum(self):\n",
        "        return sum(map(lambda index: subset_sum(index), self.generation))/len(self.generation)\n",
        "\n",
        "    def show_status(self):\n",
        "        print('generation_count', self.generation_count)\n",
        "        print('average_sum', self.get_average_sum())\n",
        "        print('best_sum', subset_sum(self.best_index))\n",
        "        print('curr_best_sum', subset_sum(self.best_indices_per_gen[-1]))\n",
        "\n",
        "\n",
        "class GA_island:\n",
        "    def __init__(self, island_count, migration_speed, migration_pause, *args):\n",
        "        self.generation_count = 0\n",
        "        self.islands = [GA(*args) for _ in range(island_count)]\n",
        "        self.island_count = island_count\n",
        "        self.migration_speed = migration_speed\n",
        "        self.migration_pause = migration_pause\n",
        "        self.best_index = self.islands[0].best_index\n",
        "\n",
        "    def migrate(self):\n",
        "        for _ in range(self.migration_speed):\n",
        "            emigrant = self.islands[-1].generation.pop()\n",
        "            for ga in self.islands:\n",
        "                ga.generation.add(emigrant)\n",
        "                if ga != self.islands[-1]:\n",
        "                    emigrant = ga.generation.pop()\n",
        "\n",
        "    def next_generations(self, n):\n",
        "        end = False\n",
        "        for _ in range(n):\n",
        "            if end:\n",
        "                break\n",
        "            if self.generation_count % self.migration_pause == 0:\n",
        "                self.migrate()\n",
        "            for ga in self.islands:\n",
        "                ga.next_generation()\n",
        "                if subset_sum(ga.best_index) < subset_sum(self.best_index):\n",
        "                    self.best_index = ga.best_index\n",
        "                if ga.end_condition():\n",
        "                    end = True\n",
        "                    return ga.best_index\n",
        "            self.generation_count += 1\n",
        "        return self.best_index\n",
        "\n",
        "    def get_best_overall(self):\n",
        "        best_arr = list(\n",
        "            map(lambda ga: subset_sum(ga.best_index), self.islands))\n",
        "        best_overall = min(best_arr)\n",
        "        return best_overall\n",
        "\n",
        "    def show_status(self):\n",
        "        for i, ga in enumerate(self.islands):\n",
        "            print(i)\n",
        "            ga.show_status()\n",
        "            print()"
      ]
    },
    {
      "cell_type": "code",
      "execution_count": 27,
      "metadata": {},
      "outputs": [],
      "source": [
        "start_index = random_index()\n",
        "iterations = 10000\n",
        "\n",
        "sa = SA(start_index, 100, iterations)\n",
        "ga = GA(100, 0.01)\n",
        "ga_islands = GA_island(10, 10, 10, 100, 0.01)\n",
        "\n",
        "algorithms = {\n",
        "    'HCD': lambda: hill_climbing_deterministic(start_index),\n",
        "    'HCS': lambda: hill_climbing_stochastic(start_index, iterations),\n",
        "    'TABU': lambda: tabu_search(start_index, iterations),\n",
        "    'SA': lambda: sa.run(),\n",
        "    'GA': lambda: ga.next_generations(iterations),\n",
        "    'GAI': lambda: ga_islands.next_generations(iterations),\n",
        "}"
      ]
    },
    {
      "cell_type": "code",
      "execution_count": 28,
      "metadata": {},
      "outputs": [],
      "source": [
        "def test_all(n):\n",
        "  results = {}\n",
        "  for name, algorithm in algorithms.items():\n",
        "    print(name)\n",
        "    result = {'success': 0, 'duration': 0, 'best_sum': 0}\n",
        "    for _ in range(n):\n",
        "      s_time = time()\n",
        "      best_index = algorithm()\n",
        "      best_sum = subset_sum(best_index)\n",
        "      duration = time() - s_time\n",
        "      success = subset_sum(best_index) == 0\n",
        "      result['success'] += success\n",
        "      result['duration'] += duration\n",
        "      result['best_sum'] += best_sum\n",
        "    results[name] = {'success': result['success'], 'av_duration': result['duration']/n, 'av_best_sum': result['best_sum']/n}\n",
        "  for key in ['success', 'av_duration', 'av_best_sum']:\n",
        "    plt.figure()\n",
        "    plt.figtext(.5, .9, key)\n",
        "    plt.bar(results.keys(), [result[key] for result in results.values()])\n",
        "  for name, result in results.items():\n",
        "    print(name, result)"
      ]
    },
    {
      "cell_type": "code",
      "execution_count": 29,
      "metadata": {},
      "outputs": [
        {
          "name": "stdout",
          "output_type": "stream",
          "text": [
            "VALUE_RANGE 1000\n",
            "HCD\n",
            "HCS\n",
            "TABU\n",
            "SA\n",
            "GA\n",
            "GAI\n",
            "HCD {'success': 0, 'av_duration': 0.0064284346103668216, 'av_best_sum': 15.0}\n",
            "HCS {'success': 1000, 'av_duration': 0.05445340132713318, 'av_best_sum': 0.0}\n",
            "TABU {'success': 1000, 'av_duration': 0.05430222058296204, 'av_best_sum': 0.0}\n",
            "SA {'success': 159, 'av_duration': 0.001676424503326416, 'av_best_sum': 5.887}\n",
            "GA {'success': 1000, 'av_duration': 0.002871473789215088, 'av_best_sum': 0.0}\n",
            "GAI {'success': 1000, 'av_duration': 0.003032456636428833, 'av_best_sum': 0.0}\n"
          ]
        },
        {
          "data": {
            "image/png": "[encoded data removed]",
            "text/plain": [
              "<Figure size 432x288 with 1 Axes>"
            ]
          },
          "metadata": {
            "needs_background": "light"
          },
          "output_type": "display_data"
        },
        {
          "data": {
            "image/png": "[encoded data removed]",
            "text/plain": [
              "<Figure size 432x288 with 1 Axes>"
            ]
          },
          "metadata": {
            "needs_background": "light"
          },
          "output_type": "display_data"
        },
        {
          "data": {
            "image/png": "[encoded data removed]",
            "text/plain": [
              "<Figure size 432x288 with 1 Axes>"
            ]
          },
          "metadata": {
            "needs_background": "light"
          },
          "output_type": "display_data"
        }
      ],
      "source": [
        "# easy (range 1000)\n",
        "print('VALUE_RANGE', VALUE_RANGE)\n",
        "test_all(1000)"
      ]
    },
    {
      "cell_type": "code",
      "execution_count": 31,
      "metadata": {},
      "outputs": [
        {
          "name": "stdout",
          "output_type": "stream",
          "text": [
            "VALUE_RANGE 10000\n",
            "HCD\n",
            "HCS\n",
            "TABU\n",
            "SA\n",
            "GA\n",
            "GAI\n",
            "HCD {'success': 0, 'av_duration': 0.0063602254390716555, 'av_best_sum': 15.0}\n",
            "HCS {'success': 1000, 'av_duration': 0.05352865147590637, 'av_best_sum': 0.0}\n",
            "TABU {'success': 1000, 'av_duration': 0.054327974557876586, 'av_best_sum': 0.0}\n",
            "SA {'success': 0, 'av_duration': 8.160591125488282e-06, 'av_best_sum': 7.0}\n",
            "GA {'success': 1000, 'av_duration': 0.0028356738090515136, 'av_best_sum': 0.0}\n",
            "GAI {'success': 1000, 'av_duration': 0.0027638239860534666, 'av_best_sum': 0.0}\n"
          ]
        },
        {
          "data": {
            "image/png": "[encoded data removed]",
            "text/plain": [
              "<Figure size 432x288 with 1 Axes>"
            ]
          },
          "metadata": {
            "needs_background": "light"
          },
          "output_type": "display_data"
        },
        {
          "data": {
            "image/png": "[encoded data removed]",
            "text/plain": [
              "<Figure size 432x288 with 1 Axes>"
            ]
          },
          "metadata": {
            "needs_background": "light"
          },
          "output_type": "display_data"
        },
        {
          "data": {
            "image/png": "[encoded data removed]",
            "text/plain": [
              "<Figure size 432x288 with 1 Axes>"
            ]
          },
          "metadata": {
            "needs_background": "light"
          },
          "output_type": "display_data"
        }
      ],
      "source": [
        "# medium (range 10000)\n",
        "print('VALUE_RANGE', VALUE_RANGE)\n",
        "test_all(1000)"
      ]
    },
    {
      "cell_type": "code",
      "execution_count": 33,
      "metadata": {},
      "outputs": [
        {
          "name": "stdout",
          "output_type": "stream",
          "text": [
            "VALUE_RANGE 100000\n",
            "HCD\n",
            "HCS\n",
            "TABU\n",
            "SA\n",
            "GA\n",
            "GAI\n",
            "HCD {'success': 0, 'av_duration': 0.006353983879089356, 'av_best_sum': 15.0}\n",
            "HCS {'success': 1000, 'av_duration': 0.05432280588150024, 'av_best_sum': 0.0}\n",
            "TABU {'success': 1000, 'av_duration': 0.05435922026634216, 'av_best_sum': 0.0}\n",
            "SA {'success': 0, 'av_duration': 8.184194564819336e-06, 'av_best_sum': 7.0}\n",
            "GA {'success': 1000, 'av_duration': 0.002753856420516968, 'av_best_sum': 0.0}\n",
            "GAI {'success': 1000, 'av_duration': 0.0028146495819091795, 'av_best_sum': 0.0}\n"
          ]
        },
        {
          "data": {
            "image/png": "[encoded data removed]",
            "text/plain": [
              "<Figure size 432x288 with 1 Axes>"
            ]
          },
          "metadata": {
            "needs_background": "light"
          },
          "output_type": "display_data"
        },
        {
          "data": {
            "image/png": "[encoded data removed]",
            "text/plain": [
              "<Figure size 432x288 with 1 Axes>"
            ]
          },
          "metadata": {
            "needs_background": "light"
          },
          "output_type": "display_data"
        },
        {
          "data": {
            "image/png": "[encoded data removed]",
            "text/plain": [
              "<Figure size 432x288 with 1 Axes>"
            ]
          },
          "metadata": {
            "needs_background": "light"
          },
          "output_type": "display_data"
        }
      ],
      "source": [
        "# hard (range 100000)\n",
        "print('VALUE_RANGE', VALUE_RANGE)\n",
        "test_all(1000)"
      ]
    },
    {
      "cell_type": "code",
      "execution_count": 35,
      "metadata": {},
      "outputs": [
        {
          "name": "stdout",
          "output_type": "stream",
          "text": [
            "VALUE_RANGE 1000000\n",
            "HCD\n",
            "HCS\n",
            "TABU\n",
            "SA\n",
            "GA\n",
            "GAI\n",
            "HCD {'success': 0, 'av_duration': 0.006347545146942139, 'av_best_sum': 15.0}\n",
            "HCS {'success': 1000, 'av_duration': 0.05423990988731384, 'av_best_sum': 0.0}\n",
            "TABU {'success': 1000, 'av_duration': 0.0548156521320343, 'av_best_sum': 0.0}\n",
            "SA {'success': 0, 'av_duration': 8.143424987792968e-06, 'av_best_sum': 7.0}\n",
            "GA {'success': 1000, 'av_duration': 0.002705070495605469, 'av_best_sum': 0.0}\n",
            "GAI {'success': 1000, 'av_duration': 0.002722844123840332, 'av_best_sum': 0.0}\n"
          ]
        },
        {
          "data": {
            "image/png": "[encoded data removed]",
            "text/plain": [
              "<Figure size 432x288 with 1 Axes>"
            ]
          },
          "metadata": {
            "needs_background": "light"
          },
          "output_type": "display_data"
        },
        {
          "data": {
            "image/png": "[encoded data removed]",
            "text/plain": [
              "<Figure size 432x288 with 1 Axes>"
            ]
          },
          "metadata": {
            "needs_background": "light"
          },
          "output_type": "display_data"
        },
        {
          "data": {
            "image/png": "[encoded data removed]",
            "text/plain": [
              "<Figure size 432x288 with 1 Axes>"
            ]
          },
          "metadata": {
            "needs_background": "light"
          },
          "output_type": "display_data"
        }
      ],
      "source": [
        "# super hard (range 1000000)\n",
        "print('VALUE_RANGE', VALUE_RANGE)\n",
        "test_all(1000)"
      ]
    },
    {
      "cell_type": "code",
      "execution_count": 37,
      "metadata": {},
      "outputs": [
        {
          "name": "stdout",
          "output_type": "stream",
          "text": [
            "VALUE_RANGE 100000000\n",
            "HCD\n",
            "HCS\n",
            "TABU\n",
            "SA\n",
            "GA\n",
            "GAI\n",
            "HCD {'success': 0, 'av_duration': 0.0063573942184448244, 'av_best_sum': 15.0}\n",
            "HCS {'success': 1000, 'av_duration': 0.05539849925041199, 'av_best_sum': 0.0}\n",
            "TABU {'success': 1000, 'av_duration': 0.055193647146224975, 'av_best_sum': 0.0}\n",
            "SA {'success': 0, 'av_duration': 8.264541625976563e-06, 'av_best_sum': 7.0}\n",
            "GA {'success': 1000, 'av_duration': 0.0027993245124816896, 'av_best_sum': 0.0}\n",
            "GAI {'success': 1000, 'av_duration': 0.0028458061218261718, 'av_best_sum': 0.0}\n"
          ]
        },
        {
          "data": {
            "image/png": "[encoded data removed]",
            "text/plain": [
              "<Figure size 432x288 with 1 Axes>"
            ]
          },
          "metadata": {
            "needs_background": "light"
          },
          "output_type": "display_data"
        },
        {
          "data": {
            "image/png": "[encoded data removed]",
            "text/plain": [
              "<Figure size 432x288 with 1 Axes>"
            ]
          },
          "metadata": {
            "needs_background": "light"
          },
          "output_type": "display_data"
        },
        {
          "data": {
            "image/png": "[encoded data removed]",
            "text/plain": [
              "<Figure size 432x288 with 1 Axes>"
            ]
          },
          "metadata": {
            "needs_background": "light"
          },
          "output_type": "display_data"
        }
      ],
      "source": [
        "# super hard (range 100_000_000)\n",
        "print('VALUE_RANGE', VALUE_RANGE)\n",
        "test_all(1000)"
      ]
    }
  ],
  "metadata": {
    "colab": {
      "authorship_tag": "ABX9TyO1XCZam3FLAJLiKGl9K60G",
      "collapsed_sections": [],
      "include_colab_link": true,
      "name": "MHE_4.ipynb",
      "provenance": []
    },
    "interpreter": {
      "hash": "7b536c44f187cb9a9d5637f049676a20c51313fbb21ab577023381d749aed8c2"
    },
    "kernelspec": {
      "display_name": "Python 3.9.10 64-bit ('3.9.10')",
      "language": "python",
      "name": "python3"
    },
    "language_info": {
      "codemirror_mode": {
        "name": "ipython",
        "version": 3
      },
      "file_extension": ".py",
      "mimetype": "text/x-python",
      "name": "python",
      "nbconvert_exporter": "python",
      "pygments_lexer": "ipython3",
      "version": "3.9.10"
    }
  },
  "nbformat": 4,
  "nbformat_minor": 0
}
